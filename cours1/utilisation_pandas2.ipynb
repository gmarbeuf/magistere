{
 "cells": [
  {
   "cell_type": "markdown",
   "metadata": {},
   "source": [
    "***\n",
    "# UTILISATION DE PANDAS\n",
    "***"
   ]
  },
  {
   "cell_type": "markdown",
   "metadata": {},
   "source": [
    "Pandas est une librairie python qui permet de manipuler facilement des données à analyser. La bibliothèque contient un grand nombre d'outils pour récupérer, agréger, combiner, transformer, trier, découper, déplacer et exporter les données, calculer des statistiques et produire des graphiques.\n",
    "\n",
    "Documentation : https://linuxfr.org/news/pandas-une-bibliotheque-pour-manipuler-facilement-des-donnees\n",
    "\n",
    "https://ghajba.developpez.com/tutoriels/python/analyse-donnees-avec-pandas/\n",
    "\n",
    "https://pandas.pydata.org/pandas-docs/stable/user_guide/\n",
    "\n",
    "http://www.python-simple.com/python-pandas/creation-series.php\n",
    "\n",
    "http://www.xavierdupre.fr/app/ensae_teaching_cs/helpsphinx3/notebooks/td1a_cenonce_session_10.html\n",
    "\n",
    "https://riptutorial.com/Download/pandas-fr.pdf"
   ]
  },
  {
   "cell_type": "markdown",
   "metadata": {},
   "source": [
    "### 1) On importe la librairie pandas pour tout le notebook :"
   ]
  },
  {
   "cell_type": "code",
   "execution_count": 1,
   "metadata": {},
   "outputs": [],
   "source": [
    "import pandas as pd"
   ]
  },
  {
   "cell_type": "markdown",
   "metadata": {},
   "source": [
    "### 2) Premiers pas"
   ]
  },
  {
   "cell_type": "markdown",
   "metadata": {},
   "source": [
    "- Création de séries :"
   ]
  },
  {
   "cell_type": "code",
   "execution_count": null,
   "metadata": {},
   "outputs": [],
   "source": [
    "serie1=pd.Series([0,1,4,9])\n",
    "serie1"
   ]
  },
  {
   "cell_type": "markdown",
   "metadata": {},
   "source": [
    "Pour la visualiser :"
   ]
  },
  {
   "cell_type": "code",
   "execution_count": null,
   "metadata": {},
   "outputs": [],
   "source": [
    "tab1=pd.DataFrame(serie1,columns=['Série 1'])\n",
    "tab1"
   ]
  },
  {
   "cell_type": "code",
   "execution_count": null,
   "metadata": {},
   "outputs": [],
   "source": [
    "serie2=pd.DataFrame({'A': [4, 5, 6, 7,8],\n",
    "                    'B': [10, 20, 30, 40,50],\n",
    "                    'C': [100, 50, -30, -50,0]})\n",
    "serie2"
   ]
  },
  {
   "cell_type": "code",
   "execution_count": null,
   "metadata": {},
   "outputs": [],
   "source": [
    "serie3=pd.Series({'Couleur': ['rouge','bleu','vert'],\n",
    "                    'Taille': [5, 3.5, 2],\n",
    "                    'En stock': [True, False, True]})\n",
    "serie3"
   ]
  },
  {
   "cell_type": "markdown",
   "metadata": {},
   "source": [
    "Dans pandas, les principaux types de variables sont :\n",
    "\n",
    "- int \n",
    "- float \n",
    "- object -> chaînes de caractères\n",
    "- datetime -> dates\n",
    "- bool \n"
   ]
  },
  {
   "cell_type": "code",
   "execution_count": null,
   "metadata": {},
   "outputs": [],
   "source": [
    "data2.describe()"
   ]
  },
  {
   "cell_type": "code",
   "execution_count": null,
   "metadata": {},
   "outputs": [],
   "source": [
    "data2.median()"
   ]
  },
  {
   "cell_type": "code",
   "execution_count": null,
   "metadata": {},
   "outputs": [],
   "source": [
    "data2.quantile([.25, .75])"
   ]
  },
  {
   "cell_type": "markdown",
   "metadata": {},
   "source": [
    "Calculs statistiques :"
   ]
  },
  {
   "cell_type": "code",
   "execution_count": null,
   "metadata": {},
   "outputs": [],
   "source": [
    "data1.describe()"
   ]
  },
  {
   "cell_type": "markdown",
   "metadata": {},
   "source": [
    "data+100"
   ]
  },
  {
   "cell_type": "code",
   "execution_count": null,
   "metadata": {},
   "outputs": [],
   "source": [
    "data>2"
   ]
  },
  {
   "cell_type": "code",
   "execution_count": null,
   "metadata": {},
   "outputs": [],
   "source": [
    "from numpy.random import randint\n",
    "result = pd.DataFrame(columns=['dé 1', 'dé 2'])\n",
    "for i in range(10):\n",
    "    result.loc[i] = [randint(1,6)]+[randint(1,6)]\n",
    "\n",
    "result.style.hide_index()"
   ]
  },
  {
   "cell_type": "markdown",
   "metadata": {},
   "source": [
    "D'une autre façon :"
   ]
  },
  {
   "cell_type": "code",
   "execution_count": null,
   "metadata": {},
   "outputs": [],
   "source": [
    "result2 = pd.DataFrame(randint(1,6,size=(10, 2)), columns=['dé 1', 'dé 2'])\n",
    "result2.style.hide_index()"
   ]
  },
  {
   "cell_type": "code",
   "execution_count": null,
   "metadata": {},
   "outputs": [],
   "source": [
    "result['somme']=result['dé 1']+result['dé 2']\n",
    "result"
   ]
  },
  {
   "cell_type": "markdown",
   "metadata": {},
   "source": [
    "### 3) Import de fichiers csv ou autres fichiers de données"
   ]
  },
  {
   "cell_type": "markdown",
   "metadata": {},
   "source": [
    "Les femmes au parlement européen (législature 2014 - 2019) :"
   ]
  },
  {
   "cell_type": "code",
   "execution_count": 2,
   "metadata": {},
   "outputs": [],
   "source": [
    "df = pd.read_csv('parlement.csv', sep=',')"
   ]
  },
  {
   "cell_type": "code",
   "execution_count": 3,
   "metadata": {},
   "outputs": [
    {
     "data": {
      "text/html": [
       "<div>\n",
       "<style scoped>\n",
       "    .dataframe tbody tr th:only-of-type {\n",
       "        vertical-align: middle;\n",
       "    }\n",
       "\n",
       "    .dataframe tbody tr th {\n",
       "        vertical-align: top;\n",
       "    }\n",
       "\n",
       "    .dataframe thead th {\n",
       "        text-align: right;\n",
       "    }\n",
       "</style>\n",
       "<table border=\"1\" class=\"dataframe\">\n",
       "  <thead>\n",
       "    <tr style=\"text-align: right;\">\n",
       "      <th></th>\n",
       "      <th>Pays</th>\n",
       "      <th>Femmes</th>\n",
       "      <th>Ensemble</th>\n",
       "    </tr>\n",
       "  </thead>\n",
       "  <tbody>\n",
       "    <tr>\n",
       "      <th>0</th>\n",
       "      <td>Belgique</td>\n",
       "      <td>4</td>\n",
       "      <td>21</td>\n",
       "    </tr>\n",
       "    <tr>\n",
       "      <th>1</th>\n",
       "      <td>Bulgarie</td>\n",
       "      <td>5</td>\n",
       "      <td>17</td>\n",
       "    </tr>\n",
       "    <tr>\n",
       "      <th>2</th>\n",
       "      <td>République tchèque</td>\n",
       "      <td>5</td>\n",
       "      <td>21</td>\n",
       "    </tr>\n",
       "    <tr>\n",
       "      <th>3</th>\n",
       "      <td>Croatie</td>\n",
       "      <td>5</td>\n",
       "      <td>11</td>\n",
       "    </tr>\n",
       "    <tr>\n",
       "      <th>4</th>\n",
       "      <td>Danemark</td>\n",
       "      <td>5</td>\n",
       "      <td>13</td>\n",
       "    </tr>\n",
       "    <tr>\n",
       "      <th>5</th>\n",
       "      <td>Allemagne</td>\n",
       "      <td>35</td>\n",
       "      <td>96</td>\n",
       "    </tr>\n",
       "    <tr>\n",
       "      <th>6</th>\n",
       "      <td>Estonie</td>\n",
       "      <td>3</td>\n",
       "      <td>6</td>\n",
       "    </tr>\n",
       "    <tr>\n",
       "      <th>7</th>\n",
       "      <td>Grèce</td>\n",
       "      <td>5</td>\n",
       "      <td>21</td>\n",
       "    </tr>\n",
       "    <tr>\n",
       "      <th>8</th>\n",
       "      <td>Espagne</td>\n",
       "      <td>23</td>\n",
       "      <td>54</td>\n",
       "    </tr>\n",
       "    <tr>\n",
       "      <th>9</th>\n",
       "      <td>France</td>\n",
       "      <td>31</td>\n",
       "      <td>74</td>\n",
       "    </tr>\n",
       "    <tr>\n",
       "      <th>10</th>\n",
       "      <td>Irlande</td>\n",
       "      <td>6</td>\n",
       "      <td>11</td>\n",
       "    </tr>\n",
       "    <tr>\n",
       "      <th>11</th>\n",
       "      <td>Italie</td>\n",
       "      <td>29</td>\n",
       "      <td>73</td>\n",
       "    </tr>\n",
       "    <tr>\n",
       "      <th>12</th>\n",
       "      <td>Chypre</td>\n",
       "      <td>1</td>\n",
       "      <td>6</td>\n",
       "    </tr>\n",
       "    <tr>\n",
       "      <th>13</th>\n",
       "      <td>Lettonie</td>\n",
       "      <td>4</td>\n",
       "      <td>8</td>\n",
       "    </tr>\n",
       "    <tr>\n",
       "      <th>14</th>\n",
       "      <td>Lituanie</td>\n",
       "      <td>1</td>\n",
       "      <td>11</td>\n",
       "    </tr>\n",
       "    <tr>\n",
       "      <th>15</th>\n",
       "      <td>Luxembourg</td>\n",
       "      <td>2</td>\n",
       "      <td>6</td>\n",
       "    </tr>\n",
       "    <tr>\n",
       "      <th>16</th>\n",
       "      <td>Hongrie</td>\n",
       "      <td>4</td>\n",
       "      <td>21</td>\n",
       "    </tr>\n",
       "    <tr>\n",
       "      <th>17</th>\n",
       "      <td>Malte</td>\n",
       "      <td>4</td>\n",
       "      <td>6</td>\n",
       "    </tr>\n",
       "    <tr>\n",
       "      <th>18</th>\n",
       "      <td>Pays-Bas</td>\n",
       "      <td>11</td>\n",
       "      <td>26</td>\n",
       "    </tr>\n",
       "    <tr>\n",
       "      <th>19</th>\n",
       "      <td>Autriche</td>\n",
       "      <td>8</td>\n",
       "      <td>18</td>\n",
       "    </tr>\n",
       "    <tr>\n",
       "      <th>20</th>\n",
       "      <td>Pologne</td>\n",
       "      <td>12</td>\n",
       "      <td>51</td>\n",
       "    </tr>\n",
       "    <tr>\n",
       "      <th>21</th>\n",
       "      <td>Portugal</td>\n",
       "      <td>8</td>\n",
       "      <td>21</td>\n",
       "    </tr>\n",
       "    <tr>\n",
       "      <th>22</th>\n",
       "      <td>Roumanie</td>\n",
       "      <td>9</td>\n",
       "      <td>32</td>\n",
       "    </tr>\n",
       "    <tr>\n",
       "      <th>23</th>\n",
       "      <td>Slovénie</td>\n",
       "      <td>3</td>\n",
       "      <td>8</td>\n",
       "    </tr>\n",
       "    <tr>\n",
       "      <th>24</th>\n",
       "      <td>Slovaquie</td>\n",
       "      <td>4</td>\n",
       "      <td>13</td>\n",
       "    </tr>\n",
       "    <tr>\n",
       "      <th>25</th>\n",
       "      <td>Finlande</td>\n",
       "      <td>7</td>\n",
       "      <td>13</td>\n",
       "    </tr>\n",
       "    <tr>\n",
       "      <th>26</th>\n",
       "      <td>Suède</td>\n",
       "      <td>11</td>\n",
       "      <td>20</td>\n",
       "    </tr>\n",
       "    <tr>\n",
       "      <th>27</th>\n",
       "      <td>Royaume-Uni</td>\n",
       "      <td>30</td>\n",
       "      <td>73</td>\n",
       "    </tr>\n",
       "  </tbody>\n",
       "</table>\n",
       "</div>"
      ],
      "text/plain": [
       "                  Pays  Femmes  Ensemble\n",
       "0             Belgique       4        21\n",
       "1             Bulgarie       5        17\n",
       "2   République tchèque       5        21\n",
       "3              Croatie       5        11\n",
       "4             Danemark       5        13\n",
       "5            Allemagne      35        96\n",
       "6              Estonie       3         6\n",
       "7                Grèce       5        21\n",
       "8              Espagne      23        54\n",
       "9               France      31        74\n",
       "10             Irlande       6        11\n",
       "11             Italie       29        73\n",
       "12              Chypre       1         6\n",
       "13            Lettonie       4         8\n",
       "14            Lituanie       1        11\n",
       "15          Luxembourg       2         6\n",
       "16             Hongrie       4        21\n",
       "17               Malte       4         6\n",
       "18            Pays-Bas      11        26\n",
       "19            Autriche       8        18\n",
       "20             Pologne      12        51\n",
       "21            Portugal       8        21\n",
       "22            Roumanie       9        32\n",
       "23            Slovénie       3         8\n",
       "24           Slovaquie       4        13\n",
       "25            Finlande       7        13\n",
       "26               Suède      11        20\n",
       "27         Royaume-Uni      30        73"
      ]
     },
     "execution_count": 3,
     "metadata": {},
     "output_type": "execute_result"
    }
   ],
   "source": [
    "df"
   ]
  },
  {
   "cell_type": "code",
   "execution_count": 4,
   "metadata": {},
   "outputs": [
    {
     "data": {
      "text/html": [
       "<style  type=\"text/css\" >\n",
       "</style><table id=\"T_93779ee8_79b8_11e9_9d49_080027c7abd7\" ><thead>    <tr>        <th class=\"blank level0\" ></th>        <th class=\"col_heading level0 col0\" >Pays</th>        <th class=\"col_heading level0 col1\" >Femmes</th>        <th class=\"col_heading level0 col2\" >Ensemble</th>        <th class=\"col_heading level0 col3\" >% Femmes</th>    </tr></thead><tbody>\n",
       "                <tr>\n",
       "                        <th id=\"T_93779ee8_79b8_11e9_9d49_080027c7abd7level0_row0\" class=\"row_heading level0 row0\" >0</th>\n",
       "                        <td id=\"T_93779ee8_79b8_11e9_9d49_080027c7abd7row0_col0\" class=\"data row0 col0\" >Belgique</td>\n",
       "                        <td id=\"T_93779ee8_79b8_11e9_9d49_080027c7abd7row0_col1\" class=\"data row0 col1\" >4</td>\n",
       "                        <td id=\"T_93779ee8_79b8_11e9_9d49_080027c7abd7row0_col2\" class=\"data row0 col2\" >21</td>\n",
       "                        <td id=\"T_93779ee8_79b8_11e9_9d49_080027c7abd7row0_col3\" class=\"data row0 col3\" >19.0</td>\n",
       "            </tr>\n",
       "            <tr>\n",
       "                        <th id=\"T_93779ee8_79b8_11e9_9d49_080027c7abd7level0_row1\" class=\"row_heading level0 row1\" >1</th>\n",
       "                        <td id=\"T_93779ee8_79b8_11e9_9d49_080027c7abd7row1_col0\" class=\"data row1 col0\" >Bulgarie</td>\n",
       "                        <td id=\"T_93779ee8_79b8_11e9_9d49_080027c7abd7row1_col1\" class=\"data row1 col1\" >5</td>\n",
       "                        <td id=\"T_93779ee8_79b8_11e9_9d49_080027c7abd7row1_col2\" class=\"data row1 col2\" >17</td>\n",
       "                        <td id=\"T_93779ee8_79b8_11e9_9d49_080027c7abd7row1_col3\" class=\"data row1 col3\" >29.4</td>\n",
       "            </tr>\n",
       "            <tr>\n",
       "                        <th id=\"T_93779ee8_79b8_11e9_9d49_080027c7abd7level0_row2\" class=\"row_heading level0 row2\" >2</th>\n",
       "                        <td id=\"T_93779ee8_79b8_11e9_9d49_080027c7abd7row2_col0\" class=\"data row2 col0\" >République tchèque</td>\n",
       "                        <td id=\"T_93779ee8_79b8_11e9_9d49_080027c7abd7row2_col1\" class=\"data row2 col1\" >5</td>\n",
       "                        <td id=\"T_93779ee8_79b8_11e9_9d49_080027c7abd7row2_col2\" class=\"data row2 col2\" >21</td>\n",
       "                        <td id=\"T_93779ee8_79b8_11e9_9d49_080027c7abd7row2_col3\" class=\"data row2 col3\" >23.8</td>\n",
       "            </tr>\n",
       "            <tr>\n",
       "                        <th id=\"T_93779ee8_79b8_11e9_9d49_080027c7abd7level0_row3\" class=\"row_heading level0 row3\" >3</th>\n",
       "                        <td id=\"T_93779ee8_79b8_11e9_9d49_080027c7abd7row3_col0\" class=\"data row3 col0\" >Croatie</td>\n",
       "                        <td id=\"T_93779ee8_79b8_11e9_9d49_080027c7abd7row3_col1\" class=\"data row3 col1\" >5</td>\n",
       "                        <td id=\"T_93779ee8_79b8_11e9_9d49_080027c7abd7row3_col2\" class=\"data row3 col2\" >11</td>\n",
       "                        <td id=\"T_93779ee8_79b8_11e9_9d49_080027c7abd7row3_col3\" class=\"data row3 col3\" >45.5</td>\n",
       "            </tr>\n",
       "            <tr>\n",
       "                        <th id=\"T_93779ee8_79b8_11e9_9d49_080027c7abd7level0_row4\" class=\"row_heading level0 row4\" >4</th>\n",
       "                        <td id=\"T_93779ee8_79b8_11e9_9d49_080027c7abd7row4_col0\" class=\"data row4 col0\" >Danemark</td>\n",
       "                        <td id=\"T_93779ee8_79b8_11e9_9d49_080027c7abd7row4_col1\" class=\"data row4 col1\" >5</td>\n",
       "                        <td id=\"T_93779ee8_79b8_11e9_9d49_080027c7abd7row4_col2\" class=\"data row4 col2\" >13</td>\n",
       "                        <td id=\"T_93779ee8_79b8_11e9_9d49_080027c7abd7row4_col3\" class=\"data row4 col3\" >38.5</td>\n",
       "            </tr>\n",
       "            <tr>\n",
       "                        <th id=\"T_93779ee8_79b8_11e9_9d49_080027c7abd7level0_row5\" class=\"row_heading level0 row5\" >5</th>\n",
       "                        <td id=\"T_93779ee8_79b8_11e9_9d49_080027c7abd7row5_col0\" class=\"data row5 col0\" >Allemagne</td>\n",
       "                        <td id=\"T_93779ee8_79b8_11e9_9d49_080027c7abd7row5_col1\" class=\"data row5 col1\" >35</td>\n",
       "                        <td id=\"T_93779ee8_79b8_11e9_9d49_080027c7abd7row5_col2\" class=\"data row5 col2\" >96</td>\n",
       "                        <td id=\"T_93779ee8_79b8_11e9_9d49_080027c7abd7row5_col3\" class=\"data row5 col3\" >36.5</td>\n",
       "            </tr>\n",
       "            <tr>\n",
       "                        <th id=\"T_93779ee8_79b8_11e9_9d49_080027c7abd7level0_row6\" class=\"row_heading level0 row6\" >6</th>\n",
       "                        <td id=\"T_93779ee8_79b8_11e9_9d49_080027c7abd7row6_col0\" class=\"data row6 col0\" >Estonie</td>\n",
       "                        <td id=\"T_93779ee8_79b8_11e9_9d49_080027c7abd7row6_col1\" class=\"data row6 col1\" >3</td>\n",
       "                        <td id=\"T_93779ee8_79b8_11e9_9d49_080027c7abd7row6_col2\" class=\"data row6 col2\" >6</td>\n",
       "                        <td id=\"T_93779ee8_79b8_11e9_9d49_080027c7abd7row6_col3\" class=\"data row6 col3\" >50.0</td>\n",
       "            </tr>\n",
       "            <tr>\n",
       "                        <th id=\"T_93779ee8_79b8_11e9_9d49_080027c7abd7level0_row7\" class=\"row_heading level0 row7\" >7</th>\n",
       "                        <td id=\"T_93779ee8_79b8_11e9_9d49_080027c7abd7row7_col0\" class=\"data row7 col0\" >Grèce</td>\n",
       "                        <td id=\"T_93779ee8_79b8_11e9_9d49_080027c7abd7row7_col1\" class=\"data row7 col1\" >5</td>\n",
       "                        <td id=\"T_93779ee8_79b8_11e9_9d49_080027c7abd7row7_col2\" class=\"data row7 col2\" >21</td>\n",
       "                        <td id=\"T_93779ee8_79b8_11e9_9d49_080027c7abd7row7_col3\" class=\"data row7 col3\" >23.8</td>\n",
       "            </tr>\n",
       "            <tr>\n",
       "                        <th id=\"T_93779ee8_79b8_11e9_9d49_080027c7abd7level0_row8\" class=\"row_heading level0 row8\" >8</th>\n",
       "                        <td id=\"T_93779ee8_79b8_11e9_9d49_080027c7abd7row8_col0\" class=\"data row8 col0\" >Espagne</td>\n",
       "                        <td id=\"T_93779ee8_79b8_11e9_9d49_080027c7abd7row8_col1\" class=\"data row8 col1\" >23</td>\n",
       "                        <td id=\"T_93779ee8_79b8_11e9_9d49_080027c7abd7row8_col2\" class=\"data row8 col2\" >54</td>\n",
       "                        <td id=\"T_93779ee8_79b8_11e9_9d49_080027c7abd7row8_col3\" class=\"data row8 col3\" >42.6</td>\n",
       "            </tr>\n",
       "            <tr>\n",
       "                        <th id=\"T_93779ee8_79b8_11e9_9d49_080027c7abd7level0_row9\" class=\"row_heading level0 row9\" >9</th>\n",
       "                        <td id=\"T_93779ee8_79b8_11e9_9d49_080027c7abd7row9_col0\" class=\"data row9 col0\" >France</td>\n",
       "                        <td id=\"T_93779ee8_79b8_11e9_9d49_080027c7abd7row9_col1\" class=\"data row9 col1\" >31</td>\n",
       "                        <td id=\"T_93779ee8_79b8_11e9_9d49_080027c7abd7row9_col2\" class=\"data row9 col2\" >74</td>\n",
       "                        <td id=\"T_93779ee8_79b8_11e9_9d49_080027c7abd7row9_col3\" class=\"data row9 col3\" >41.9</td>\n",
       "            </tr>\n",
       "            <tr>\n",
       "                        <th id=\"T_93779ee8_79b8_11e9_9d49_080027c7abd7level0_row10\" class=\"row_heading level0 row10\" >10</th>\n",
       "                        <td id=\"T_93779ee8_79b8_11e9_9d49_080027c7abd7row10_col0\" class=\"data row10 col0\" >Irlande</td>\n",
       "                        <td id=\"T_93779ee8_79b8_11e9_9d49_080027c7abd7row10_col1\" class=\"data row10 col1\" >6</td>\n",
       "                        <td id=\"T_93779ee8_79b8_11e9_9d49_080027c7abd7row10_col2\" class=\"data row10 col2\" >11</td>\n",
       "                        <td id=\"T_93779ee8_79b8_11e9_9d49_080027c7abd7row10_col3\" class=\"data row10 col3\" >54.5</td>\n",
       "            </tr>\n",
       "            <tr>\n",
       "                        <th id=\"T_93779ee8_79b8_11e9_9d49_080027c7abd7level0_row11\" class=\"row_heading level0 row11\" >11</th>\n",
       "                        <td id=\"T_93779ee8_79b8_11e9_9d49_080027c7abd7row11_col0\" class=\"data row11 col0\" >Italie </td>\n",
       "                        <td id=\"T_93779ee8_79b8_11e9_9d49_080027c7abd7row11_col1\" class=\"data row11 col1\" >29</td>\n",
       "                        <td id=\"T_93779ee8_79b8_11e9_9d49_080027c7abd7row11_col2\" class=\"data row11 col2\" >73</td>\n",
       "                        <td id=\"T_93779ee8_79b8_11e9_9d49_080027c7abd7row11_col3\" class=\"data row11 col3\" >39.7</td>\n",
       "            </tr>\n",
       "            <tr>\n",
       "                        <th id=\"T_93779ee8_79b8_11e9_9d49_080027c7abd7level0_row12\" class=\"row_heading level0 row12\" >12</th>\n",
       "                        <td id=\"T_93779ee8_79b8_11e9_9d49_080027c7abd7row12_col0\" class=\"data row12 col0\" >Chypre</td>\n",
       "                        <td id=\"T_93779ee8_79b8_11e9_9d49_080027c7abd7row12_col1\" class=\"data row12 col1\" >1</td>\n",
       "                        <td id=\"T_93779ee8_79b8_11e9_9d49_080027c7abd7row12_col2\" class=\"data row12 col2\" >6</td>\n",
       "                        <td id=\"T_93779ee8_79b8_11e9_9d49_080027c7abd7row12_col3\" class=\"data row12 col3\" >16.7</td>\n",
       "            </tr>\n",
       "            <tr>\n",
       "                        <th id=\"T_93779ee8_79b8_11e9_9d49_080027c7abd7level0_row13\" class=\"row_heading level0 row13\" >13</th>\n",
       "                        <td id=\"T_93779ee8_79b8_11e9_9d49_080027c7abd7row13_col0\" class=\"data row13 col0\" >Lettonie</td>\n",
       "                        <td id=\"T_93779ee8_79b8_11e9_9d49_080027c7abd7row13_col1\" class=\"data row13 col1\" >4</td>\n",
       "                        <td id=\"T_93779ee8_79b8_11e9_9d49_080027c7abd7row13_col2\" class=\"data row13 col2\" >8</td>\n",
       "                        <td id=\"T_93779ee8_79b8_11e9_9d49_080027c7abd7row13_col3\" class=\"data row13 col3\" >50.0</td>\n",
       "            </tr>\n",
       "            <tr>\n",
       "                        <th id=\"T_93779ee8_79b8_11e9_9d49_080027c7abd7level0_row14\" class=\"row_heading level0 row14\" >14</th>\n",
       "                        <td id=\"T_93779ee8_79b8_11e9_9d49_080027c7abd7row14_col0\" class=\"data row14 col0\" >Lituanie</td>\n",
       "                        <td id=\"T_93779ee8_79b8_11e9_9d49_080027c7abd7row14_col1\" class=\"data row14 col1\" >1</td>\n",
       "                        <td id=\"T_93779ee8_79b8_11e9_9d49_080027c7abd7row14_col2\" class=\"data row14 col2\" >11</td>\n",
       "                        <td id=\"T_93779ee8_79b8_11e9_9d49_080027c7abd7row14_col3\" class=\"data row14 col3\" >9.1</td>\n",
       "            </tr>\n",
       "            <tr>\n",
       "                        <th id=\"T_93779ee8_79b8_11e9_9d49_080027c7abd7level0_row15\" class=\"row_heading level0 row15\" >15</th>\n",
       "                        <td id=\"T_93779ee8_79b8_11e9_9d49_080027c7abd7row15_col0\" class=\"data row15 col0\" >Luxembourg</td>\n",
       "                        <td id=\"T_93779ee8_79b8_11e9_9d49_080027c7abd7row15_col1\" class=\"data row15 col1\" >2</td>\n",
       "                        <td id=\"T_93779ee8_79b8_11e9_9d49_080027c7abd7row15_col2\" class=\"data row15 col2\" >6</td>\n",
       "                        <td id=\"T_93779ee8_79b8_11e9_9d49_080027c7abd7row15_col3\" class=\"data row15 col3\" >33.3</td>\n",
       "            </tr>\n",
       "            <tr>\n",
       "                        <th id=\"T_93779ee8_79b8_11e9_9d49_080027c7abd7level0_row16\" class=\"row_heading level0 row16\" >16</th>\n",
       "                        <td id=\"T_93779ee8_79b8_11e9_9d49_080027c7abd7row16_col0\" class=\"data row16 col0\" >Hongrie</td>\n",
       "                        <td id=\"T_93779ee8_79b8_11e9_9d49_080027c7abd7row16_col1\" class=\"data row16 col1\" >4</td>\n",
       "                        <td id=\"T_93779ee8_79b8_11e9_9d49_080027c7abd7row16_col2\" class=\"data row16 col2\" >21</td>\n",
       "                        <td id=\"T_93779ee8_79b8_11e9_9d49_080027c7abd7row16_col3\" class=\"data row16 col3\" >19.0</td>\n",
       "            </tr>\n",
       "            <tr>\n",
       "                        <th id=\"T_93779ee8_79b8_11e9_9d49_080027c7abd7level0_row17\" class=\"row_heading level0 row17\" >17</th>\n",
       "                        <td id=\"T_93779ee8_79b8_11e9_9d49_080027c7abd7row17_col0\" class=\"data row17 col0\" >Malte</td>\n",
       "                        <td id=\"T_93779ee8_79b8_11e9_9d49_080027c7abd7row17_col1\" class=\"data row17 col1\" >4</td>\n",
       "                        <td id=\"T_93779ee8_79b8_11e9_9d49_080027c7abd7row17_col2\" class=\"data row17 col2\" >6</td>\n",
       "                        <td id=\"T_93779ee8_79b8_11e9_9d49_080027c7abd7row17_col3\" class=\"data row17 col3\" >66.7</td>\n",
       "            </tr>\n",
       "            <tr>\n",
       "                        <th id=\"T_93779ee8_79b8_11e9_9d49_080027c7abd7level0_row18\" class=\"row_heading level0 row18\" >18</th>\n",
       "                        <td id=\"T_93779ee8_79b8_11e9_9d49_080027c7abd7row18_col0\" class=\"data row18 col0\" >Pays-Bas</td>\n",
       "                        <td id=\"T_93779ee8_79b8_11e9_9d49_080027c7abd7row18_col1\" class=\"data row18 col1\" >11</td>\n",
       "                        <td id=\"T_93779ee8_79b8_11e9_9d49_080027c7abd7row18_col2\" class=\"data row18 col2\" >26</td>\n",
       "                        <td id=\"T_93779ee8_79b8_11e9_9d49_080027c7abd7row18_col3\" class=\"data row18 col3\" >42.3</td>\n",
       "            </tr>\n",
       "            <tr>\n",
       "                        <th id=\"T_93779ee8_79b8_11e9_9d49_080027c7abd7level0_row19\" class=\"row_heading level0 row19\" >19</th>\n",
       "                        <td id=\"T_93779ee8_79b8_11e9_9d49_080027c7abd7row19_col0\" class=\"data row19 col0\" >Autriche</td>\n",
       "                        <td id=\"T_93779ee8_79b8_11e9_9d49_080027c7abd7row19_col1\" class=\"data row19 col1\" >8</td>\n",
       "                        <td id=\"T_93779ee8_79b8_11e9_9d49_080027c7abd7row19_col2\" class=\"data row19 col2\" >18</td>\n",
       "                        <td id=\"T_93779ee8_79b8_11e9_9d49_080027c7abd7row19_col3\" class=\"data row19 col3\" >44.4</td>\n",
       "            </tr>\n",
       "            <tr>\n",
       "                        <th id=\"T_93779ee8_79b8_11e9_9d49_080027c7abd7level0_row20\" class=\"row_heading level0 row20\" >20</th>\n",
       "                        <td id=\"T_93779ee8_79b8_11e9_9d49_080027c7abd7row20_col0\" class=\"data row20 col0\" >Pologne</td>\n",
       "                        <td id=\"T_93779ee8_79b8_11e9_9d49_080027c7abd7row20_col1\" class=\"data row20 col1\" >12</td>\n",
       "                        <td id=\"T_93779ee8_79b8_11e9_9d49_080027c7abd7row20_col2\" class=\"data row20 col2\" >51</td>\n",
       "                        <td id=\"T_93779ee8_79b8_11e9_9d49_080027c7abd7row20_col3\" class=\"data row20 col3\" >23.5</td>\n",
       "            </tr>\n",
       "            <tr>\n",
       "                        <th id=\"T_93779ee8_79b8_11e9_9d49_080027c7abd7level0_row21\" class=\"row_heading level0 row21\" >21</th>\n",
       "                        <td id=\"T_93779ee8_79b8_11e9_9d49_080027c7abd7row21_col0\" class=\"data row21 col0\" >Portugal</td>\n",
       "                        <td id=\"T_93779ee8_79b8_11e9_9d49_080027c7abd7row21_col1\" class=\"data row21 col1\" >8</td>\n",
       "                        <td id=\"T_93779ee8_79b8_11e9_9d49_080027c7abd7row21_col2\" class=\"data row21 col2\" >21</td>\n",
       "                        <td id=\"T_93779ee8_79b8_11e9_9d49_080027c7abd7row21_col3\" class=\"data row21 col3\" >38.1</td>\n",
       "            </tr>\n",
       "            <tr>\n",
       "                        <th id=\"T_93779ee8_79b8_11e9_9d49_080027c7abd7level0_row22\" class=\"row_heading level0 row22\" >22</th>\n",
       "                        <td id=\"T_93779ee8_79b8_11e9_9d49_080027c7abd7row22_col0\" class=\"data row22 col0\" >Roumanie</td>\n",
       "                        <td id=\"T_93779ee8_79b8_11e9_9d49_080027c7abd7row22_col1\" class=\"data row22 col1\" >9</td>\n",
       "                        <td id=\"T_93779ee8_79b8_11e9_9d49_080027c7abd7row22_col2\" class=\"data row22 col2\" >32</td>\n",
       "                        <td id=\"T_93779ee8_79b8_11e9_9d49_080027c7abd7row22_col3\" class=\"data row22 col3\" >28.1</td>\n",
       "            </tr>\n",
       "            <tr>\n",
       "                        <th id=\"T_93779ee8_79b8_11e9_9d49_080027c7abd7level0_row23\" class=\"row_heading level0 row23\" >23</th>\n",
       "                        <td id=\"T_93779ee8_79b8_11e9_9d49_080027c7abd7row23_col0\" class=\"data row23 col0\" >Slovénie</td>\n",
       "                        <td id=\"T_93779ee8_79b8_11e9_9d49_080027c7abd7row23_col1\" class=\"data row23 col1\" >3</td>\n",
       "                        <td id=\"T_93779ee8_79b8_11e9_9d49_080027c7abd7row23_col2\" class=\"data row23 col2\" >8</td>\n",
       "                        <td id=\"T_93779ee8_79b8_11e9_9d49_080027c7abd7row23_col3\" class=\"data row23 col3\" >37.5</td>\n",
       "            </tr>\n",
       "            <tr>\n",
       "                        <th id=\"T_93779ee8_79b8_11e9_9d49_080027c7abd7level0_row24\" class=\"row_heading level0 row24\" >24</th>\n",
       "                        <td id=\"T_93779ee8_79b8_11e9_9d49_080027c7abd7row24_col0\" class=\"data row24 col0\" >Slovaquie</td>\n",
       "                        <td id=\"T_93779ee8_79b8_11e9_9d49_080027c7abd7row24_col1\" class=\"data row24 col1\" >4</td>\n",
       "                        <td id=\"T_93779ee8_79b8_11e9_9d49_080027c7abd7row24_col2\" class=\"data row24 col2\" >13</td>\n",
       "                        <td id=\"T_93779ee8_79b8_11e9_9d49_080027c7abd7row24_col3\" class=\"data row24 col3\" >30.8</td>\n",
       "            </tr>\n",
       "            <tr>\n",
       "                        <th id=\"T_93779ee8_79b8_11e9_9d49_080027c7abd7level0_row25\" class=\"row_heading level0 row25\" >25</th>\n",
       "                        <td id=\"T_93779ee8_79b8_11e9_9d49_080027c7abd7row25_col0\" class=\"data row25 col0\" >Finlande</td>\n",
       "                        <td id=\"T_93779ee8_79b8_11e9_9d49_080027c7abd7row25_col1\" class=\"data row25 col1\" >7</td>\n",
       "                        <td id=\"T_93779ee8_79b8_11e9_9d49_080027c7abd7row25_col2\" class=\"data row25 col2\" >13</td>\n",
       "                        <td id=\"T_93779ee8_79b8_11e9_9d49_080027c7abd7row25_col3\" class=\"data row25 col3\" >53.8</td>\n",
       "            </tr>\n",
       "            <tr>\n",
       "                        <th id=\"T_93779ee8_79b8_11e9_9d49_080027c7abd7level0_row26\" class=\"row_heading level0 row26\" >26</th>\n",
       "                        <td id=\"T_93779ee8_79b8_11e9_9d49_080027c7abd7row26_col0\" class=\"data row26 col0\" >Suède</td>\n",
       "                        <td id=\"T_93779ee8_79b8_11e9_9d49_080027c7abd7row26_col1\" class=\"data row26 col1\" >11</td>\n",
       "                        <td id=\"T_93779ee8_79b8_11e9_9d49_080027c7abd7row26_col2\" class=\"data row26 col2\" >20</td>\n",
       "                        <td id=\"T_93779ee8_79b8_11e9_9d49_080027c7abd7row26_col3\" class=\"data row26 col3\" >55.0</td>\n",
       "            </tr>\n",
       "            <tr>\n",
       "                        <th id=\"T_93779ee8_79b8_11e9_9d49_080027c7abd7level0_row27\" class=\"row_heading level0 row27\" >27</th>\n",
       "                        <td id=\"T_93779ee8_79b8_11e9_9d49_080027c7abd7row27_col0\" class=\"data row27 col0\" >Royaume-Uni</td>\n",
       "                        <td id=\"T_93779ee8_79b8_11e9_9d49_080027c7abd7row27_col1\" class=\"data row27 col1\" >30</td>\n",
       "                        <td id=\"T_93779ee8_79b8_11e9_9d49_080027c7abd7row27_col2\" class=\"data row27 col2\" >73</td>\n",
       "                        <td id=\"T_93779ee8_79b8_11e9_9d49_080027c7abd7row27_col3\" class=\"data row27 col3\" >41.1</td>\n",
       "            </tr>\n",
       "    </tbody></table>"
      ],
      "text/plain": [
       "<pandas.io.formats.style.Styler at 0x7f7c783bbac8>"
      ]
     },
     "execution_count": 4,
     "metadata": {},
     "output_type": "execute_result"
    }
   ],
   "source": [
    "df['% Femmes']=df['Femmes']/df['Ensemble']*100\n",
    "df.style.format({'% Femmes': \"{:.1f}\"})"
   ]
  },
  {
   "cell_type": "code",
   "execution_count": 5,
   "metadata": {},
   "outputs": [
    {
     "data": {
      "text/html": [
       "<style  type=\"text/css\" >\n",
       "</style><table id=\"T_98abffbc_79b8_11e9_9d49_080027c7abd7\" ><thead>    <tr>        <th class=\"blank level0\" ></th>        <th class=\"col_heading level0 col0\" >Pays</th>        <th class=\"col_heading level0 col1\" >Femmes</th>        <th class=\"col_heading level0 col2\" >Ensemble</th>        <th class=\"col_heading level0 col3\" >% Femmes</th>    </tr></thead><tbody>\n",
       "                <tr>\n",
       "                        <th id=\"T_98abffbc_79b8_11e9_9d49_080027c7abd7level0_row0\" class=\"row_heading level0 row0\" >0</th>\n",
       "                        <td id=\"T_98abffbc_79b8_11e9_9d49_080027c7abd7row0_col0\" class=\"data row0 col0\" >Belgique</td>\n",
       "                        <td id=\"T_98abffbc_79b8_11e9_9d49_080027c7abd7row0_col1\" class=\"data row0 col1\" >4</td>\n",
       "                        <td id=\"T_98abffbc_79b8_11e9_9d49_080027c7abd7row0_col2\" class=\"data row0 col2\" >21</td>\n",
       "                        <td id=\"T_98abffbc_79b8_11e9_9d49_080027c7abd7row0_col3\" class=\"data row0 col3\" >19.0</td>\n",
       "            </tr>\n",
       "            <tr>\n",
       "                        <th id=\"T_98abffbc_79b8_11e9_9d49_080027c7abd7level0_row1\" class=\"row_heading level0 row1\" >1</th>\n",
       "                        <td id=\"T_98abffbc_79b8_11e9_9d49_080027c7abd7row1_col0\" class=\"data row1 col0\" >Bulgarie</td>\n",
       "                        <td id=\"T_98abffbc_79b8_11e9_9d49_080027c7abd7row1_col1\" class=\"data row1 col1\" >5</td>\n",
       "                        <td id=\"T_98abffbc_79b8_11e9_9d49_080027c7abd7row1_col2\" class=\"data row1 col2\" >17</td>\n",
       "                        <td id=\"T_98abffbc_79b8_11e9_9d49_080027c7abd7row1_col3\" class=\"data row1 col3\" >29.4</td>\n",
       "            </tr>\n",
       "            <tr>\n",
       "                        <th id=\"T_98abffbc_79b8_11e9_9d49_080027c7abd7level0_row2\" class=\"row_heading level0 row2\" >2</th>\n",
       "                        <td id=\"T_98abffbc_79b8_11e9_9d49_080027c7abd7row2_col0\" class=\"data row2 col0\" >République tchèque</td>\n",
       "                        <td id=\"T_98abffbc_79b8_11e9_9d49_080027c7abd7row2_col1\" class=\"data row2 col1\" >5</td>\n",
       "                        <td id=\"T_98abffbc_79b8_11e9_9d49_080027c7abd7row2_col2\" class=\"data row2 col2\" >21</td>\n",
       "                        <td id=\"T_98abffbc_79b8_11e9_9d49_080027c7abd7row2_col3\" class=\"data row2 col3\" >23.8</td>\n",
       "            </tr>\n",
       "            <tr>\n",
       "                        <th id=\"T_98abffbc_79b8_11e9_9d49_080027c7abd7level0_row3\" class=\"row_heading level0 row3\" >3</th>\n",
       "                        <td id=\"T_98abffbc_79b8_11e9_9d49_080027c7abd7row3_col0\" class=\"data row3 col0\" >Croatie</td>\n",
       "                        <td id=\"T_98abffbc_79b8_11e9_9d49_080027c7abd7row3_col1\" class=\"data row3 col1\" >5</td>\n",
       "                        <td id=\"T_98abffbc_79b8_11e9_9d49_080027c7abd7row3_col2\" class=\"data row3 col2\" >11</td>\n",
       "                        <td id=\"T_98abffbc_79b8_11e9_9d49_080027c7abd7row3_col3\" class=\"data row3 col3\" >45.5</td>\n",
       "            </tr>\n",
       "            <tr>\n",
       "                        <th id=\"T_98abffbc_79b8_11e9_9d49_080027c7abd7level0_row4\" class=\"row_heading level0 row4\" >4</th>\n",
       "                        <td id=\"T_98abffbc_79b8_11e9_9d49_080027c7abd7row4_col0\" class=\"data row4 col0\" >Danemark</td>\n",
       "                        <td id=\"T_98abffbc_79b8_11e9_9d49_080027c7abd7row4_col1\" class=\"data row4 col1\" >5</td>\n",
       "                        <td id=\"T_98abffbc_79b8_11e9_9d49_080027c7abd7row4_col2\" class=\"data row4 col2\" >13</td>\n",
       "                        <td id=\"T_98abffbc_79b8_11e9_9d49_080027c7abd7row4_col3\" class=\"data row4 col3\" >38.5</td>\n",
       "            </tr>\n",
       "            <tr>\n",
       "                        <th id=\"T_98abffbc_79b8_11e9_9d49_080027c7abd7level0_row5\" class=\"row_heading level0 row5\" >5</th>\n",
       "                        <td id=\"T_98abffbc_79b8_11e9_9d49_080027c7abd7row5_col0\" class=\"data row5 col0\" >Allemagne</td>\n",
       "                        <td id=\"T_98abffbc_79b8_11e9_9d49_080027c7abd7row5_col1\" class=\"data row5 col1\" >35</td>\n",
       "                        <td id=\"T_98abffbc_79b8_11e9_9d49_080027c7abd7row5_col2\" class=\"data row5 col2\" >96</td>\n",
       "                        <td id=\"T_98abffbc_79b8_11e9_9d49_080027c7abd7row5_col3\" class=\"data row5 col3\" >36.5</td>\n",
       "            </tr>\n",
       "            <tr>\n",
       "                        <th id=\"T_98abffbc_79b8_11e9_9d49_080027c7abd7level0_row6\" class=\"row_heading level0 row6\" >6</th>\n",
       "                        <td id=\"T_98abffbc_79b8_11e9_9d49_080027c7abd7row6_col0\" class=\"data row6 col0\" >Estonie</td>\n",
       "                        <td id=\"T_98abffbc_79b8_11e9_9d49_080027c7abd7row6_col1\" class=\"data row6 col1\" >3</td>\n",
       "                        <td id=\"T_98abffbc_79b8_11e9_9d49_080027c7abd7row6_col2\" class=\"data row6 col2\" >6</td>\n",
       "                        <td id=\"T_98abffbc_79b8_11e9_9d49_080027c7abd7row6_col3\" class=\"data row6 col3\" >50.0</td>\n",
       "            </tr>\n",
       "            <tr>\n",
       "                        <th id=\"T_98abffbc_79b8_11e9_9d49_080027c7abd7level0_row7\" class=\"row_heading level0 row7\" >7</th>\n",
       "                        <td id=\"T_98abffbc_79b8_11e9_9d49_080027c7abd7row7_col0\" class=\"data row7 col0\" >Grèce</td>\n",
       "                        <td id=\"T_98abffbc_79b8_11e9_9d49_080027c7abd7row7_col1\" class=\"data row7 col1\" >5</td>\n",
       "                        <td id=\"T_98abffbc_79b8_11e9_9d49_080027c7abd7row7_col2\" class=\"data row7 col2\" >21</td>\n",
       "                        <td id=\"T_98abffbc_79b8_11e9_9d49_080027c7abd7row7_col3\" class=\"data row7 col3\" >23.8</td>\n",
       "            </tr>\n",
       "            <tr>\n",
       "                        <th id=\"T_98abffbc_79b8_11e9_9d49_080027c7abd7level0_row8\" class=\"row_heading level0 row8\" >8</th>\n",
       "                        <td id=\"T_98abffbc_79b8_11e9_9d49_080027c7abd7row8_col0\" class=\"data row8 col0\" >Espagne</td>\n",
       "                        <td id=\"T_98abffbc_79b8_11e9_9d49_080027c7abd7row8_col1\" class=\"data row8 col1\" >23</td>\n",
       "                        <td id=\"T_98abffbc_79b8_11e9_9d49_080027c7abd7row8_col2\" class=\"data row8 col2\" >54</td>\n",
       "                        <td id=\"T_98abffbc_79b8_11e9_9d49_080027c7abd7row8_col3\" class=\"data row8 col3\" >42.6</td>\n",
       "            </tr>\n",
       "            <tr>\n",
       "                        <th id=\"T_98abffbc_79b8_11e9_9d49_080027c7abd7level0_row9\" class=\"row_heading level0 row9\" >9</th>\n",
       "                        <td id=\"T_98abffbc_79b8_11e9_9d49_080027c7abd7row9_col0\" class=\"data row9 col0\" >France</td>\n",
       "                        <td id=\"T_98abffbc_79b8_11e9_9d49_080027c7abd7row9_col1\" class=\"data row9 col1\" >31</td>\n",
       "                        <td id=\"T_98abffbc_79b8_11e9_9d49_080027c7abd7row9_col2\" class=\"data row9 col2\" >74</td>\n",
       "                        <td id=\"T_98abffbc_79b8_11e9_9d49_080027c7abd7row9_col3\" class=\"data row9 col3\" >41.9</td>\n",
       "            </tr>\n",
       "            <tr>\n",
       "                        <th id=\"T_98abffbc_79b8_11e9_9d49_080027c7abd7level0_row10\" class=\"row_heading level0 row10\" >10</th>\n",
       "                        <td id=\"T_98abffbc_79b8_11e9_9d49_080027c7abd7row10_col0\" class=\"data row10 col0\" >Irlande</td>\n",
       "                        <td id=\"T_98abffbc_79b8_11e9_9d49_080027c7abd7row10_col1\" class=\"data row10 col1\" >6</td>\n",
       "                        <td id=\"T_98abffbc_79b8_11e9_9d49_080027c7abd7row10_col2\" class=\"data row10 col2\" >11</td>\n",
       "                        <td id=\"T_98abffbc_79b8_11e9_9d49_080027c7abd7row10_col3\" class=\"data row10 col3\" >54.5</td>\n",
       "            </tr>\n",
       "            <tr>\n",
       "                        <th id=\"T_98abffbc_79b8_11e9_9d49_080027c7abd7level0_row11\" class=\"row_heading level0 row11\" >11</th>\n",
       "                        <td id=\"T_98abffbc_79b8_11e9_9d49_080027c7abd7row11_col0\" class=\"data row11 col0\" >Italie </td>\n",
       "                        <td id=\"T_98abffbc_79b8_11e9_9d49_080027c7abd7row11_col1\" class=\"data row11 col1\" >29</td>\n",
       "                        <td id=\"T_98abffbc_79b8_11e9_9d49_080027c7abd7row11_col2\" class=\"data row11 col2\" >73</td>\n",
       "                        <td id=\"T_98abffbc_79b8_11e9_9d49_080027c7abd7row11_col3\" class=\"data row11 col3\" >39.7</td>\n",
       "            </tr>\n",
       "            <tr>\n",
       "                        <th id=\"T_98abffbc_79b8_11e9_9d49_080027c7abd7level0_row12\" class=\"row_heading level0 row12\" >12</th>\n",
       "                        <td id=\"T_98abffbc_79b8_11e9_9d49_080027c7abd7row12_col0\" class=\"data row12 col0\" >Chypre</td>\n",
       "                        <td id=\"T_98abffbc_79b8_11e9_9d49_080027c7abd7row12_col1\" class=\"data row12 col1\" >1</td>\n",
       "                        <td id=\"T_98abffbc_79b8_11e9_9d49_080027c7abd7row12_col2\" class=\"data row12 col2\" >6</td>\n",
       "                        <td id=\"T_98abffbc_79b8_11e9_9d49_080027c7abd7row12_col3\" class=\"data row12 col3\" >16.7</td>\n",
       "            </tr>\n",
       "            <tr>\n",
       "                        <th id=\"T_98abffbc_79b8_11e9_9d49_080027c7abd7level0_row13\" class=\"row_heading level0 row13\" >13</th>\n",
       "                        <td id=\"T_98abffbc_79b8_11e9_9d49_080027c7abd7row13_col0\" class=\"data row13 col0\" >Lettonie</td>\n",
       "                        <td id=\"T_98abffbc_79b8_11e9_9d49_080027c7abd7row13_col1\" class=\"data row13 col1\" >4</td>\n",
       "                        <td id=\"T_98abffbc_79b8_11e9_9d49_080027c7abd7row13_col2\" class=\"data row13 col2\" >8</td>\n",
       "                        <td id=\"T_98abffbc_79b8_11e9_9d49_080027c7abd7row13_col3\" class=\"data row13 col3\" >50.0</td>\n",
       "            </tr>\n",
       "            <tr>\n",
       "                        <th id=\"T_98abffbc_79b8_11e9_9d49_080027c7abd7level0_row14\" class=\"row_heading level0 row14\" >14</th>\n",
       "                        <td id=\"T_98abffbc_79b8_11e9_9d49_080027c7abd7row14_col0\" class=\"data row14 col0\" >Lituanie</td>\n",
       "                        <td id=\"T_98abffbc_79b8_11e9_9d49_080027c7abd7row14_col1\" class=\"data row14 col1\" >1</td>\n",
       "                        <td id=\"T_98abffbc_79b8_11e9_9d49_080027c7abd7row14_col2\" class=\"data row14 col2\" >11</td>\n",
       "                        <td id=\"T_98abffbc_79b8_11e9_9d49_080027c7abd7row14_col3\" class=\"data row14 col3\" >9.1</td>\n",
       "            </tr>\n",
       "            <tr>\n",
       "                        <th id=\"T_98abffbc_79b8_11e9_9d49_080027c7abd7level0_row15\" class=\"row_heading level0 row15\" >15</th>\n",
       "                        <td id=\"T_98abffbc_79b8_11e9_9d49_080027c7abd7row15_col0\" class=\"data row15 col0\" >Luxembourg</td>\n",
       "                        <td id=\"T_98abffbc_79b8_11e9_9d49_080027c7abd7row15_col1\" class=\"data row15 col1\" >2</td>\n",
       "                        <td id=\"T_98abffbc_79b8_11e9_9d49_080027c7abd7row15_col2\" class=\"data row15 col2\" >6</td>\n",
       "                        <td id=\"T_98abffbc_79b8_11e9_9d49_080027c7abd7row15_col3\" class=\"data row15 col3\" >33.3</td>\n",
       "            </tr>\n",
       "            <tr>\n",
       "                        <th id=\"T_98abffbc_79b8_11e9_9d49_080027c7abd7level0_row16\" class=\"row_heading level0 row16\" >16</th>\n",
       "                        <td id=\"T_98abffbc_79b8_11e9_9d49_080027c7abd7row16_col0\" class=\"data row16 col0\" >Hongrie</td>\n",
       "                        <td id=\"T_98abffbc_79b8_11e9_9d49_080027c7abd7row16_col1\" class=\"data row16 col1\" >4</td>\n",
       "                        <td id=\"T_98abffbc_79b8_11e9_9d49_080027c7abd7row16_col2\" class=\"data row16 col2\" >21</td>\n",
       "                        <td id=\"T_98abffbc_79b8_11e9_9d49_080027c7abd7row16_col3\" class=\"data row16 col3\" >19.0</td>\n",
       "            </tr>\n",
       "            <tr>\n",
       "                        <th id=\"T_98abffbc_79b8_11e9_9d49_080027c7abd7level0_row17\" class=\"row_heading level0 row17\" >17</th>\n",
       "                        <td id=\"T_98abffbc_79b8_11e9_9d49_080027c7abd7row17_col0\" class=\"data row17 col0\" >Malte</td>\n",
       "                        <td id=\"T_98abffbc_79b8_11e9_9d49_080027c7abd7row17_col1\" class=\"data row17 col1\" >4</td>\n",
       "                        <td id=\"T_98abffbc_79b8_11e9_9d49_080027c7abd7row17_col2\" class=\"data row17 col2\" >6</td>\n",
       "                        <td id=\"T_98abffbc_79b8_11e9_9d49_080027c7abd7row17_col3\" class=\"data row17 col3\" >66.7</td>\n",
       "            </tr>\n",
       "            <tr>\n",
       "                        <th id=\"T_98abffbc_79b8_11e9_9d49_080027c7abd7level0_row18\" class=\"row_heading level0 row18\" >18</th>\n",
       "                        <td id=\"T_98abffbc_79b8_11e9_9d49_080027c7abd7row18_col0\" class=\"data row18 col0\" >Pays-Bas</td>\n",
       "                        <td id=\"T_98abffbc_79b8_11e9_9d49_080027c7abd7row18_col1\" class=\"data row18 col1\" >11</td>\n",
       "                        <td id=\"T_98abffbc_79b8_11e9_9d49_080027c7abd7row18_col2\" class=\"data row18 col2\" >26</td>\n",
       "                        <td id=\"T_98abffbc_79b8_11e9_9d49_080027c7abd7row18_col3\" class=\"data row18 col3\" >42.3</td>\n",
       "            </tr>\n",
       "            <tr>\n",
       "                        <th id=\"T_98abffbc_79b8_11e9_9d49_080027c7abd7level0_row19\" class=\"row_heading level0 row19\" >19</th>\n",
       "                        <td id=\"T_98abffbc_79b8_11e9_9d49_080027c7abd7row19_col0\" class=\"data row19 col0\" >Autriche</td>\n",
       "                        <td id=\"T_98abffbc_79b8_11e9_9d49_080027c7abd7row19_col1\" class=\"data row19 col1\" >8</td>\n",
       "                        <td id=\"T_98abffbc_79b8_11e9_9d49_080027c7abd7row19_col2\" class=\"data row19 col2\" >18</td>\n",
       "                        <td id=\"T_98abffbc_79b8_11e9_9d49_080027c7abd7row19_col3\" class=\"data row19 col3\" >44.4</td>\n",
       "            </tr>\n",
       "            <tr>\n",
       "                        <th id=\"T_98abffbc_79b8_11e9_9d49_080027c7abd7level0_row20\" class=\"row_heading level0 row20\" >20</th>\n",
       "                        <td id=\"T_98abffbc_79b8_11e9_9d49_080027c7abd7row20_col0\" class=\"data row20 col0\" >Pologne</td>\n",
       "                        <td id=\"T_98abffbc_79b8_11e9_9d49_080027c7abd7row20_col1\" class=\"data row20 col1\" >12</td>\n",
       "                        <td id=\"T_98abffbc_79b8_11e9_9d49_080027c7abd7row20_col2\" class=\"data row20 col2\" >51</td>\n",
       "                        <td id=\"T_98abffbc_79b8_11e9_9d49_080027c7abd7row20_col3\" class=\"data row20 col3\" >23.5</td>\n",
       "            </tr>\n",
       "            <tr>\n",
       "                        <th id=\"T_98abffbc_79b8_11e9_9d49_080027c7abd7level0_row21\" class=\"row_heading level0 row21\" >21</th>\n",
       "                        <td id=\"T_98abffbc_79b8_11e9_9d49_080027c7abd7row21_col0\" class=\"data row21 col0\" >Portugal</td>\n",
       "                        <td id=\"T_98abffbc_79b8_11e9_9d49_080027c7abd7row21_col1\" class=\"data row21 col1\" >8</td>\n",
       "                        <td id=\"T_98abffbc_79b8_11e9_9d49_080027c7abd7row21_col2\" class=\"data row21 col2\" >21</td>\n",
       "                        <td id=\"T_98abffbc_79b8_11e9_9d49_080027c7abd7row21_col3\" class=\"data row21 col3\" >38.1</td>\n",
       "            </tr>\n",
       "            <tr>\n",
       "                        <th id=\"T_98abffbc_79b8_11e9_9d49_080027c7abd7level0_row22\" class=\"row_heading level0 row22\" >22</th>\n",
       "                        <td id=\"T_98abffbc_79b8_11e9_9d49_080027c7abd7row22_col0\" class=\"data row22 col0\" >Roumanie</td>\n",
       "                        <td id=\"T_98abffbc_79b8_11e9_9d49_080027c7abd7row22_col1\" class=\"data row22 col1\" >9</td>\n",
       "                        <td id=\"T_98abffbc_79b8_11e9_9d49_080027c7abd7row22_col2\" class=\"data row22 col2\" >32</td>\n",
       "                        <td id=\"T_98abffbc_79b8_11e9_9d49_080027c7abd7row22_col3\" class=\"data row22 col3\" >28.1</td>\n",
       "            </tr>\n",
       "            <tr>\n",
       "                        <th id=\"T_98abffbc_79b8_11e9_9d49_080027c7abd7level0_row23\" class=\"row_heading level0 row23\" >23</th>\n",
       "                        <td id=\"T_98abffbc_79b8_11e9_9d49_080027c7abd7row23_col0\" class=\"data row23 col0\" >Slovénie</td>\n",
       "                        <td id=\"T_98abffbc_79b8_11e9_9d49_080027c7abd7row23_col1\" class=\"data row23 col1\" >3</td>\n",
       "                        <td id=\"T_98abffbc_79b8_11e9_9d49_080027c7abd7row23_col2\" class=\"data row23 col2\" >8</td>\n",
       "                        <td id=\"T_98abffbc_79b8_11e9_9d49_080027c7abd7row23_col3\" class=\"data row23 col3\" >37.5</td>\n",
       "            </tr>\n",
       "            <tr>\n",
       "                        <th id=\"T_98abffbc_79b8_11e9_9d49_080027c7abd7level0_row24\" class=\"row_heading level0 row24\" >24</th>\n",
       "                        <td id=\"T_98abffbc_79b8_11e9_9d49_080027c7abd7row24_col0\" class=\"data row24 col0\" >Slovaquie</td>\n",
       "                        <td id=\"T_98abffbc_79b8_11e9_9d49_080027c7abd7row24_col1\" class=\"data row24 col1\" >4</td>\n",
       "                        <td id=\"T_98abffbc_79b8_11e9_9d49_080027c7abd7row24_col2\" class=\"data row24 col2\" >13</td>\n",
       "                        <td id=\"T_98abffbc_79b8_11e9_9d49_080027c7abd7row24_col3\" class=\"data row24 col3\" >30.8</td>\n",
       "            </tr>\n",
       "            <tr>\n",
       "                        <th id=\"T_98abffbc_79b8_11e9_9d49_080027c7abd7level0_row25\" class=\"row_heading level0 row25\" >25</th>\n",
       "                        <td id=\"T_98abffbc_79b8_11e9_9d49_080027c7abd7row25_col0\" class=\"data row25 col0\" >Finlande</td>\n",
       "                        <td id=\"T_98abffbc_79b8_11e9_9d49_080027c7abd7row25_col1\" class=\"data row25 col1\" >7</td>\n",
       "                        <td id=\"T_98abffbc_79b8_11e9_9d49_080027c7abd7row25_col2\" class=\"data row25 col2\" >13</td>\n",
       "                        <td id=\"T_98abffbc_79b8_11e9_9d49_080027c7abd7row25_col3\" class=\"data row25 col3\" >53.8</td>\n",
       "            </tr>\n",
       "            <tr>\n",
       "                        <th id=\"T_98abffbc_79b8_11e9_9d49_080027c7abd7level0_row26\" class=\"row_heading level0 row26\" >26</th>\n",
       "                        <td id=\"T_98abffbc_79b8_11e9_9d49_080027c7abd7row26_col0\" class=\"data row26 col0\" >Suède</td>\n",
       "                        <td id=\"T_98abffbc_79b8_11e9_9d49_080027c7abd7row26_col1\" class=\"data row26 col1\" >11</td>\n",
       "                        <td id=\"T_98abffbc_79b8_11e9_9d49_080027c7abd7row26_col2\" class=\"data row26 col2\" >20</td>\n",
       "                        <td id=\"T_98abffbc_79b8_11e9_9d49_080027c7abd7row26_col3\" class=\"data row26 col3\" >55.0</td>\n",
       "            </tr>\n",
       "            <tr>\n",
       "                        <th id=\"T_98abffbc_79b8_11e9_9d49_080027c7abd7level0_row27\" class=\"row_heading level0 row27\" >27</th>\n",
       "                        <td id=\"T_98abffbc_79b8_11e9_9d49_080027c7abd7row27_col0\" class=\"data row27 col0\" >Royaume-Uni</td>\n",
       "                        <td id=\"T_98abffbc_79b8_11e9_9d49_080027c7abd7row27_col1\" class=\"data row27 col1\" >30</td>\n",
       "                        <td id=\"T_98abffbc_79b8_11e9_9d49_080027c7abd7row27_col2\" class=\"data row27 col2\" >73</td>\n",
       "                        <td id=\"T_98abffbc_79b8_11e9_9d49_080027c7abd7row27_col3\" class=\"data row27 col3\" >41.1</td>\n",
       "            </tr>\n",
       "            <tr>\n",
       "                        <th id=\"T_98abffbc_79b8_11e9_9d49_080027c7abd7level0_row28\" class=\"row_heading level0 row28\" >28</th>\n",
       "                        <td id=\"T_98abffbc_79b8_11e9_9d49_080027c7abd7row28_col0\" class=\"data row28 col0\" >nan</td>\n",
       "                        <td id=\"T_98abffbc_79b8_11e9_9d49_080027c7abd7row28_col1\" class=\"data row28 col1\" >275</td>\n",
       "                        <td id=\"T_98abffbc_79b8_11e9_9d49_080027c7abd7row28_col2\" class=\"data row28 col2\" >751</td>\n",
       "                        <td id=\"T_98abffbc_79b8_11e9_9d49_080027c7abd7row28_col3\" class=\"data row28 col3\" >36.6</td>\n",
       "            </tr>\n",
       "    </tbody></table>"
      ],
      "text/plain": [
       "<pandas.io.formats.style.Styler at 0x7f7c4c485cc0>"
      ]
     },
     "execution_count": 5,
     "metadata": {},
     "output_type": "execute_result"
    }
   ],
   "source": [
    "#df.loc[28]=['Total',df['Femmes'].sum(),df['Ensemble'].sum(),df.loc[28,'Femmes']/df.loc[28,'Ensemble']*100]\n",
    "df.loc[28,'Femmes']=df['Femmes'].sum()\n",
    "df.loc[28,'Ensemble']=df['Ensemble'].sum()\n",
    "df.loc[28,'% Femmes']=df.loc[28,'Femmes']/df.loc[28,'Ensemble']*100\n",
    "df.style.format({'% Femmes': \"{:.1f}\"})"
   ]
  },
  {
   "cell_type": "code",
   "execution_count": 25,
   "metadata": {},
   "outputs": [
    {
     "data": {
      "text/html": [
       "<div>\n",
       "<style scoped>\n",
       "    .dataframe tbody tr th:only-of-type {\n",
       "        vertical-align: middle;\n",
       "    }\n",
       "\n",
       "    .dataframe tbody tr th {\n",
       "        vertical-align: top;\n",
       "    }\n",
       "\n",
       "    .dataframe thead th {\n",
       "        text-align: right;\n",
       "    }\n",
       "</style>\n",
       "<table border=\"1\" class=\"dataframe\">\n",
       "  <thead>\n",
       "    <tr style=\"text-align: right;\">\n",
       "      <th></th>\n",
       "      <th>Femmes</th>\n",
       "      <th>Ensemble</th>\n",
       "    </tr>\n",
       "  </thead>\n",
       "  <tbody>\n",
       "    <tr>\n",
       "      <th>count</th>\n",
       "      <td>29.000000</td>\n",
       "      <td>29.000000</td>\n",
       "    </tr>\n",
       "    <tr>\n",
       "      <th>mean</th>\n",
       "      <td>18.965517</td>\n",
       "      <td>51.793103</td>\n",
       "    </tr>\n",
       "    <tr>\n",
       "      <th>std</th>\n",
       "      <td>50.199234</td>\n",
       "      <td>136.687177</td>\n",
       "    </tr>\n",
       "    <tr>\n",
       "      <th>min</th>\n",
       "      <td>1.000000</td>\n",
       "      <td>6.000000</td>\n",
       "    </tr>\n",
       "    <tr>\n",
       "      <th>25%</th>\n",
       "      <td>4.000000</td>\n",
       "      <td>11.000000</td>\n",
       "    </tr>\n",
       "    <tr>\n",
       "      <th>50%</th>\n",
       "      <td>5.000000</td>\n",
       "      <td>20.000000</td>\n",
       "    </tr>\n",
       "    <tr>\n",
       "      <th>75%</th>\n",
       "      <td>11.000000</td>\n",
       "      <td>32.000000</td>\n",
       "    </tr>\n",
       "    <tr>\n",
       "      <th>max</th>\n",
       "      <td>275.000000</td>\n",
       "      <td>751.000000</td>\n",
       "    </tr>\n",
       "  </tbody>\n",
       "</table>\n",
       "</div>"
      ],
      "text/plain": [
       "           Femmes    Ensemble\n",
       "count   29.000000   29.000000\n",
       "mean    18.965517   51.793103\n",
       "std     50.199234  136.687177\n",
       "min      1.000000    6.000000\n",
       "25%      4.000000   11.000000\n",
       "50%      5.000000   20.000000\n",
       "75%     11.000000   32.000000\n",
       "max    275.000000  751.000000"
      ]
     },
     "execution_count": 25,
     "metadata": {},
     "output_type": "execute_result"
    }
   ],
   "source": [
    "df[['Femmes','Ensemble']].describe()"
   ]
  },
  {
   "cell_type": "code",
   "execution_count": 26,
   "metadata": {},
   "outputs": [
    {
     "data": {
      "text/plain": [
       "Femmes       5.0\n",
       "Ensemble    20.0\n",
       "dtype: float64"
      ]
     },
     "execution_count": 26,
     "metadata": {},
     "output_type": "execute_result"
    }
   ],
   "source": [
    "df[['Femmes','Ensemble']].median()"
   ]
  },
  {
   "cell_type": "code",
   "execution_count": 27,
   "metadata": {},
   "outputs": [
    {
     "data": {
      "text/html": [
       "<div>\n",
       "<style scoped>\n",
       "    .dataframe tbody tr th:only-of-type {\n",
       "        vertical-align: middle;\n",
       "    }\n",
       "\n",
       "    .dataframe tbody tr th {\n",
       "        vertical-align: top;\n",
       "    }\n",
       "\n",
       "    .dataframe thead th {\n",
       "        text-align: right;\n",
       "    }\n",
       "</style>\n",
       "<table border=\"1\" class=\"dataframe\">\n",
       "  <thead>\n",
       "    <tr style=\"text-align: right;\">\n",
       "      <th></th>\n",
       "      <th>Femmes</th>\n",
       "      <th>Ensemble</th>\n",
       "    </tr>\n",
       "  </thead>\n",
       "  <tbody>\n",
       "    <tr>\n",
       "      <th>0.25</th>\n",
       "      <td>4.0</td>\n",
       "      <td>11.0</td>\n",
       "    </tr>\n",
       "    <tr>\n",
       "      <th>0.75</th>\n",
       "      <td>11.0</td>\n",
       "      <td>32.0</td>\n",
       "    </tr>\n",
       "  </tbody>\n",
       "</table>\n",
       "</div>"
      ],
      "text/plain": [
       "      Femmes  Ensemble\n",
       "0.25     4.0      11.0\n",
       "0.75    11.0      32.0"
      ]
     },
     "execution_count": 27,
     "metadata": {},
     "output_type": "execute_result"
    }
   ],
   "source": [
    "df[['Femmes','Ensemble']].quantile([.25, .75])"
   ]
  },
  {
   "cell_type": "markdown",
   "metadata": {},
   "source": [
    "### 4) Utilisation pour des tableaux de valeurs"
   ]
  },
  {
   "cell_type": "markdown",
   "metadata": {},
   "source": [
    "#### a) Loi de probabilité\n",
    "\n",
    "Représentons sous forme de tableaux la loi de probabilité de la loi binomiale $B(20,\\frac{1}{2})$ ainsi que les valeurs de $p(X \\leqslant k)$.\n",
    "\n",
    "- Commençons par générer les données :"
   ]
  },
  {
   "cell_type": "code",
   "execution_count": null,
   "metadata": {},
   "outputs": [],
   "source": [
    "from scipy.stats import binom\n",
    "\n",
    "listek=range(21)                          # liste des entiers de 0 à 20\n",
    "loiproba=binom.pmf(range(21), 20, 0.5)    # loi de proba\n",
    "repartition=binom.cdf(range(21), 20, 0.5) # proba cumulées croissantes\n"
   ]
  },
  {
   "cell_type": "markdown",
   "metadata": {},
   "source": [
    "- Visualisons maintenant ces données sous forme de tableaux :"
   ]
  },
  {
   "cell_type": "code",
   "execution_count": null,
   "metadata": {},
   "outputs": [],
   "source": [
    "tableau2=pd.DataFrame({r'$k$':listek,r'$p(X=k)$':loiproba,r'$p(X \\leqslant k)$':repartition}) #\n",
    "tableau2\n"
   ]
  },
  {
   "cell_type": "markdown",
   "metadata": {},
   "source": [
    "Pour ne pas faire apparaître la première colonne des index, il suffit de la cacher !"
   ]
  },
  {
   "cell_type": "code",
   "execution_count": null,
   "metadata": {},
   "outputs": [],
   "source": [
    "tableau2.style.hide_index()\n"
   ]
  },
  {
   "cell_type": "markdown",
   "metadata": {},
   "source": [
    "#### b) Tableau de valeurs d'une fonction\n",
    "\n",
    "Dressons le tableau de valeurs de la fonction $ f : x \\mapsto x^2 + 1$ pour $x$ variant de $0$ à $9$ avec un pas de $1$.\n",
    "\n",
    "- Génération des données :"
   ]
  },
  {
   "cell_type": "code",
   "execution_count": null,
   "metadata": {},
   "outputs": [],
   "source": [
    "antec1=range(10)\n",
    "\n",
    "def f(val):\n",
    "    images=[]\n",
    "    for x in val:\n",
    "        images.append(x**2+1)\n",
    "    return images\n",
    "\n",
    "f(antec1)"
   ]
  },
  {
   "cell_type": "markdown",
   "metadata": {},
   "source": [
    "- Le tableau :"
   ]
  },
  {
   "cell_type": "code",
   "execution_count": null,
   "metadata": {},
   "outputs": [],
   "source": [
    "tabval1=pd.DataFrame({r'$x$':antec1,r'$f(x)$':f(antec1)})\n",
    "tabval1.style.hide_index()"
   ]
  },
  {
   "cell_type": "markdown",
   "metadata": {},
   "source": [
    "Pour laisser de la place au labef $f(x)$, on formate la deuxième colonne en arrondi à 2 décimales par exemple : "
   ]
  },
  {
   "cell_type": "code",
   "execution_count": null,
   "metadata": {},
   "outputs": [],
   "source": [
    "tabval1.style.format({r'$f(x)$': '{:.2f}'}).hide_index()"
   ]
  },
  {
   "cell_type": "markdown",
   "metadata": {},
   "source": [
    "Dressons maintenant le tableau de valeurs de la fonction $ g : x \\mapsto x^2 +\\frac{1}{x}$ pour $x$ prenant ses valeurs dans l'ensemble {-2 ; -0,5 ; 0,5 ; 1,5 ; 3} en arrondissant les valeurs des images au centième.\n",
    "On peut formater l'arrondi en sortie sur le tableau comme précédemment ou sur les calculs d'images."
   ]
  },
  {
   "cell_type": "code",
   "execution_count": null,
   "metadata": {},
   "outputs": [],
   "source": [
    "anteced=[-2 , -0.5 , 0.5 , 1.5, 3]\n",
    "\n",
    "def g(val):\n",
    "    images=[]\n",
    "    for x in val:\n",
    "        images.append('{:.2f}'.format(x**2+1/x))\n",
    "    return images\n",
    "\n",
    "g(anteced)"
   ]
  },
  {
   "cell_type": "code",
   "execution_count": null,
   "metadata": {},
   "outputs": [],
   "source": [
    "tabvalg=pd.DataFrame({r'$x$':anteced,r'$g(x)$':g(anteced)})\n",
    "tabvalg.style.hide_index()"
   ]
  },
  {
   "cell_type": "markdown",
   "metadata": {},
   "source": [
    "Et si on veut avoir le tableau horizontalement plutôt :"
   ]
  },
  {
   "cell_type": "code",
   "execution_count": null,
   "metadata": {},
   "outputs": [],
   "source": [
    "antec2=range(10)           # la première ligne\n",
    "imag=f(antec2)          # la deuxième ligne \n",
    "label=[r'$x$ ',r'$f(x)$ '] # label pour chaque ligne\n",
    "entete=list(' '*10)        # entête vide pour chaque colonne\n",
    "tabval2=pd.DataFrame([antec2,imag], columns=entete,index=label)\n",
    "tabval2"
   ]
  },
  {
   "cell_type": "markdown",
   "metadata": {},
   "source": [
    "Et si on veut le tableau de valeurs pour $x$ variant de -1 à 2 avec un pas de 0.5 !"
   ]
  },
  {
   "cell_type": "code",
   "execution_count": null,
   "metadata": {},
   "outputs": [],
   "source": [
    "import numpy as np         # range n'accepte que des pas entiers, \n",
    "                           # on importe alors numpy pour travailler avec des pas non entiers\n",
    "\n",
    "antec3=np.arange(-1,2.5,0.5) # la première ligne contient 7 valeurs\n",
    "imag=f(antec3)                # la deuxième ligne \n",
    "label=[r'$x$ ',r'$f(x)$ '] # label pour chaque ligne\n",
    "entete=list(' '*len(antec3))       # entête vide pour chaque colonne\n",
    "tabval3=pd.DataFrame([antec3,imag], columns=entete,index=label)\n",
    "tabval3"
   ]
  },
  {
   "cell_type": "markdown",
   "metadata": {},
   "source": [
    "On reprend la fonction $ g : x \\mapsto x^2 +\\frac{1}{x}$. On veut les images de -2 ; -1,5 ; 0,5 ; 2,2  et 3 en arrondissant les valeurs au centième :"
   ]
  },
  {
   "cell_type": "code",
   "execution_count": null,
   "metadata": {
    "scrolled": true
   },
   "outputs": [],
   "source": [
    "antec4=[-2 ,-1.5 ,0.5 , 2.2,3]   # la première ligne \n",
    "imag=g(antec4)                   # la deuxième ligne \n",
    "label=[r'$x$',r'$f(x)$']         # label pour chaque ligne\n",
    "entete=list(' '*len(antec4))     # entête vide pour chaque colonne\n",
    "tabval4=pd.DataFrame([antec4,imag], columns=entete,index=label)\n",
    "tabval4"
   ]
  }
 ],
 "metadata": {
  "kernelspec": {
   "display_name": "Python 3",
   "language": "python",
   "name": "python3"
  },
  "language_info": {
   "codemirror_mode": {
    "name": "ipython",
    "version": 3
   },
   "file_extension": ".py",
   "mimetype": "text/x-python",
   "name": "python",
   "nbconvert_exporter": "python",
   "pygments_lexer": "ipython3",
   "version": "3.6.7"
  }
 },
 "nbformat": 4,
 "nbformat_minor": 2
}
